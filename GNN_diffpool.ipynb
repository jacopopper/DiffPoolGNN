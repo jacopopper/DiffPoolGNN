{
 "cells": [
  {
   "cell_type": "code",
   "execution_count": 11,
   "metadata": {},
   "outputs": [],
   "source": [
    "import numpy as np\n",
    "import pandas as pd\n",
    "import seaborn as sns\n",
    "import glob\n",
    "import warnings\n",
    "import matplotlib.pyplot as plt\n",
    "\n",
    "from sklearn.model_selection import train_test_split\n",
    "\n",
    "import torch\n",
    "import torch.nn as nn\n",
    "import torch.nn.functional as F\n",
    "import torch.optim as optim\n",
    "\n",
    "from torch_geometric.data import Data\n",
    "from torch_geometric.loader import DataLoader \n",
    "from torch_geometric.nn import (\n",
    "    DynamicEdgeConv,\n",
    "    GCNConv,\n",
    "    dense_diff_pool,\n",
    "    knn_graph,\n",
    "    global_mean_pool\n",
    ")\n",
    "from torch_geometric.nn.aggr import AttentionalAggregation\n",
    "from torch_geometric.utils import to_dense_batch, to_dense_adj\n",
    "\n",
    "from tqdm import tqdm\n"
   ]
  },
  {
   "cell_type": "code",
   "execution_count": 12,
   "metadata": {},
   "outputs": [
    {
     "name": "stdout",
     "output_type": "stream",
     "text": [
      "Number of files: 7\n"
     ]
    }
   ],
   "source": [
    "def load_jets_from_npz(folder_path):\n",
    "\n",
    "    all_files = sorted(glob.glob(f\"{folder_path}/*.npz\"))\n",
    "    print(f\"Number of files: {len(all_files)}\")\n",
    "    \n",
    "    jet_list = []\n",
    "    label_list = []\n",
    "    \n",
    "    for file in all_files:\n",
    "        data = np.load(file)\n",
    "  \n",
    "        X_file = data[\"X\"]\n",
    "        y_file = data[\"y\"]\n",
    "        \n",
    "\n",
    "        for jet, label in zip(X_file, y_file):\n",
    "            jet_list.append(jet)\n",
    "            label_list.append(label)\n",
    "    \n",
    "    return jet_list, label_list\n",
    "\n",
    "folder_path = \"data/\"\n",
    "X, y = load_jets_from_npz(folder_path)\n"
   ]
  },
  {
   "cell_type": "code",
   "execution_count": 13,
   "metadata": {},
   "outputs": [],
   "source": [
    "def preprocess_data(X, y, use_log_pt=True, center_method=\"hardest\", apply_mask=True):\n",
    "\n",
    "    pdg_to_index = {\n",
    "        22: 0,    # photon\n",
    "        211: 1,   # pi+\n",
    "        -211: 2,  # pi-\n",
    "        130: 3,   # K0L\n",
    "        321: 4,   # K+\n",
    "        -321: 5,  # K-\n",
    "        2212: 6,  # proton\n",
    "        -2212: 7, # antiproton\n",
    "        2112: 8,  # neutron\n",
    "        -2112: 9, # antineutron\n",
    "        11: 10,   # electron\n",
    "        -11: 11,  # positron\n",
    "        13: 12,   # muon-\n",
    "        -13: 13,  # muon+\n",
    "        15: 14,   # tau-\n",
    "        -15: 15,  # tau+\n",
    "        24: 16,   # W+\n",
    "        -24: 17   # W-\n",
    "    }\n",
    "    pdg_charge_dict = {\n",
    "        22: 0,\n",
    "        211: 1,\n",
    "        -211: -1,\n",
    "        130: 0,\n",
    "        321: 1,\n",
    "        -321: -1,\n",
    "        2212: 1,\n",
    "        -2212: -1,\n",
    "        2112: 0,\n",
    "        -2112: 0,\n",
    "        11: -1,\n",
    "        -11: 1,\n",
    "        13: -1,\n",
    "        -13: 1,\n",
    "        15: -1,\n",
    "        -15: 1,\n",
    "        24: 1,\n",
    "        -24: -1\n",
    "    }\n",
    "    \n",
    "    processed_list = []\n",
    "    \n",
    "    for jet in X:\n",
    "   \n",
    "        pt  = jet[:, 0].copy()   # pT\n",
    "        eta = jet[:, 1].copy()   # eta\n",
    "        phi = jet[:, 2].copy()   # phi\n",
    "        pdg = jet[:, 3].copy()   # pdgID\n",
    "        \n",
    "        mask = pt > 0\n",
    "        \n",
    "        if use_log_pt:\n",
    "            pt = np.log(pt + 1e-9)\n",
    "        \n",
    "        if center_method == \"hardest\":\n",
    "            valid_indices = np.where(mask)[0]\n",
    "            if valid_indices.size > 0:\n",
    "                max_idx = valid_indices[np.argmax(jet[valid_indices, 0])]\n",
    "                center_eta = eta[max_idx]\n",
    "                center_phi = phi[max_idx]\n",
    "                eta = eta - center_eta\n",
    "                phi = phi - center_phi\n",
    "        \n",
    "        pdg_index = np.vectorize(lambda x: pdg_to_index.get(x, 0))(pdg)\n",
    "        \n",
    "        charge = np.vectorize(lambda x: pdg_charge_dict.get(x, 0))(pdg)\n",
    "        \n",
    "        processed_jet = np.stack([pt, eta, phi, pdg_index, charge], axis=-1)\n",
    "        processed_list.append(processed_jet)\n",
    "        \n",
    "    return processed_list, y\n",
    "\n",
    "particle_list, y_labels = preprocess_data(X, y, use_log_pt=True, center_method=\"hardest\", apply_mask=True)\n"
   ]
  },
  {
   "cell_type": "code",
   "execution_count": 14,
   "metadata": {},
   "outputs": [
    {
     "name": "stdout",
     "output_type": "stream",
     "text": [
      "Number of jets in the training set: 560000\n",
      "Number of jets in the test set: 140000\n"
     ]
    }
   ],
   "source": [
    "particle_train, particle_test, y_train, y_test = train_test_split(\n",
    "    particle_list, y_labels, test_size=0.2, random_state=42\n",
    ")\n",
    "\n",
    "print(\"Number of jets in the training set:\", len(particle_train))\n",
    "print(\"Number of jets in the test set:\", len(particle_test))"
   ]
  },
  {
   "cell_type": "code",
   "execution_count": 15,
   "metadata": {},
   "outputs": [],
   "source": [
    "def create_pyg_dataset(particle_list, labels):\n",
    "    data_list = []\n",
    "    for jet, label in zip(particle_list, labels):\n",
    "        x = torch.tensor(jet, dtype=torch.float)\n",
    "        y = torch.tensor(label.astype(int), dtype=torch.long)\n",
    "        data = Data(x=x, y=y)\n",
    "        data_list.append(data)\n",
    "    return data_list"
   ]
  },
  {
   "cell_type": "code",
   "execution_count": 16,
   "metadata": {},
   "outputs": [],
   "source": [
    "class DiffPoolNet(nn.Module):\n",
    "    def __init__(self, input_dim, hidden_dim, num_classes, num_pool_nodes=30, k=8):\n",
    "\n",
    "        super(DiffPoolNet, self).__init__()\n",
    "        self.k = k\n",
    "        \n",
    "        self.gnn_embed1 = GCNConv(input_dim, hidden_dim)\n",
    "        self.gnn_embed2 = GCNConv(hidden_dim, hidden_dim)\n",
    "        \n",
    "        self.gnn_pool = GCNConv(hidden_dim, num_pool_nodes)\n",
    "        \n",
    "        self.fc1 = nn.Linear(hidden_dim, hidden_dim)\n",
    "        self.fc2 = nn.Linear(hidden_dim, num_classes)\n",
    "    \n",
    "    def forward(self, data):\n",
    "        x, batch = data.x, data.batch\n",
    "\n",
    "        edge_index = knn_graph(x[:, 1:3], k=self.k, batch=batch)\n",
    "        \n",
    "        x_embed = F.relu(self.gnn_embed1(x, edge_index))\n",
    "        x_embed = F.relu(self.gnn_embed2(x_embed, edge_index))\n",
    "\n",
    "        S_logits = self.gnn_pool(x_embed, edge_index).float()\n",
    "        S = F.softmax(S_logits, dim=-1)\n",
    "        \n",
    "        x_embed_dense, mask = to_dense_batch(x_embed, batch)          # [B, N, hidden_dim]\n",
    "        S_dense, _ = to_dense_batch(S, batch)                           # [B, N, num_pool_nodes]\n",
    "        adj_dense = to_dense_adj(edge_index, batch=batch)               # [B, N, N]\n",
    "        \n",
    "        x_pool, adj_pool, l1, e1 = dense_diff_pool(x_embed_dense, adj_dense, S_dense, mask)\n",
    "        \n",
    "        x_pool = x_pool.mean(dim=1)\n",
    "        \n",
    "        x_out = F.relu(self.fc1(x_pool))\n",
    "        x_out = self.fc2(x_out)\n",
    "        \n",
    "        return F.log_softmax(x_out, dim=-1)"
   ]
  },
  {
   "cell_type": "code",
   "execution_count": 17,
   "metadata": {},
   "outputs": [
    {
     "name": "stderr",
     "output_type": "stream",
     "text": [
      "                                                                                   \r"
     ]
    },
    {
     "name": "stdout",
     "output_type": "stream",
     "text": [
      "Epoch: 01, Loss: 0.4708, Train Acc: 0.7890, Test Acc: 0.7883\n"
     ]
    },
    {
     "name": "stderr",
     "output_type": "stream",
     "text": [
      "                                                                                   \r"
     ]
    },
    {
     "name": "stdout",
     "output_type": "stream",
     "text": [
      "Epoch: 02, Loss: 0.4552, Train Acc: 0.7939, Test Acc: 0.7940\n"
     ]
    },
    {
     "name": "stderr",
     "output_type": "stream",
     "text": [
      "                                                                                   \r"
     ]
    },
    {
     "name": "stdout",
     "output_type": "stream",
     "text": [
      "Epoch: 03, Loss: 0.4501, Train Acc: 0.7967, Test Acc: 0.7959\n"
     ]
    },
    {
     "name": "stderr",
     "output_type": "stream",
     "text": [
      "                                                                                   \r"
     ]
    },
    {
     "name": "stdout",
     "output_type": "stream",
     "text": [
      "Epoch: 04, Loss: 0.4473, Train Acc: 0.7965, Test Acc: 0.7954\n"
     ]
    },
    {
     "name": "stderr",
     "output_type": "stream",
     "text": [
      "                                                                                   \r"
     ]
    },
    {
     "name": "stdout",
     "output_type": "stream",
     "text": [
      "Epoch: 05, Loss: 0.4451, Train Acc: 0.7986, Test Acc: 0.7984\n"
     ]
    },
    {
     "name": "stderr",
     "output_type": "stream",
     "text": [
      "                                                                                   \r"
     ]
    },
    {
     "name": "stdout",
     "output_type": "stream",
     "text": [
      "Epoch: 06, Loss: 0.4436, Train Acc: 0.7988, Test Acc: 0.7982\n"
     ]
    },
    {
     "name": "stderr",
     "output_type": "stream",
     "text": [
      "                                                                                   \r"
     ]
    },
    {
     "name": "stdout",
     "output_type": "stream",
     "text": [
      "Epoch: 07, Loss: 0.4428, Train Acc: 0.7944, Test Acc: 0.7938\n"
     ]
    },
    {
     "name": "stderr",
     "output_type": "stream",
     "text": [
      "                                                                                   \r"
     ]
    },
    {
     "name": "stdout",
     "output_type": "stream",
     "text": [
      "Epoch: 08, Loss: 0.4417, Train Acc: 0.8007, Test Acc: 0.8004\n"
     ]
    },
    {
     "name": "stderr",
     "output_type": "stream",
     "text": [
      "                                                                                   \r"
     ]
    },
    {
     "name": "stdout",
     "output_type": "stream",
     "text": [
      "Epoch: 09, Loss: 0.4408, Train Acc: 0.8001, Test Acc: 0.7998\n"
     ]
    },
    {
     "name": "stderr",
     "output_type": "stream",
     "text": [
      "                                                                                    \r"
     ]
    },
    {
     "name": "stdout",
     "output_type": "stream",
     "text": [
      "Epoch: 10, Loss: 0.4401, Train Acc: 0.8014, Test Acc: 0.8008\n"
     ]
    },
    {
     "name": "stderr",
     "output_type": "stream",
     "text": [
      "                                                                                    \r"
     ]
    },
    {
     "name": "stdout",
     "output_type": "stream",
     "text": [
      "Epoch: 11, Loss: 0.4391, Train Acc: 0.8017, Test Acc: 0.8007\n"
     ]
    },
    {
     "name": "stderr",
     "output_type": "stream",
     "text": [
      "                                                                                    \r"
     ]
    },
    {
     "name": "stdout",
     "output_type": "stream",
     "text": [
      "Epoch: 12, Loss: 0.4383, Train Acc: 0.8019, Test Acc: 0.8015\n"
     ]
    },
    {
     "name": "stderr",
     "output_type": "stream",
     "text": [
      "                                                                                    \r"
     ]
    },
    {
     "name": "stdout",
     "output_type": "stream",
     "text": [
      "Epoch: 13, Loss: 0.4376, Train Acc: 0.8031, Test Acc: 0.8026\n"
     ]
    },
    {
     "name": "stderr",
     "output_type": "stream",
     "text": [
      "                                                                                    \r"
     ]
    },
    {
     "name": "stdout",
     "output_type": "stream",
     "text": [
      "Epoch: 14, Loss: 0.4374, Train Acc: 0.8034, Test Acc: 0.8020\n"
     ]
    },
    {
     "name": "stderr",
     "output_type": "stream",
     "text": [
      "                                                                                    "
     ]
    },
    {
     "name": "stdout",
     "output_type": "stream",
     "text": [
      "Epoch: 15, Loss: 0.4367, Train Acc: 0.8031, Test Acc: 0.8028\n"
     ]
    },
    {
     "name": "stderr",
     "output_type": "stream",
     "text": [
      "\r"
     ]
    }
   ],
   "source": [
    "train_dataset = create_pyg_dataset(particle_train, y_train)\n",
    "test_dataset  = create_pyg_dataset(particle_test, y_test)\n",
    "\n",
    "batch_size = 256\n",
    "train_loader = DataLoader(train_dataset, batch_size=batch_size, shuffle=True)\n",
    "test_loader  = DataLoader(test_dataset, batch_size=batch_size, shuffle=False)\n",
    "\n",
    "device = torch.device('cuda' if torch.cuda.is_available() else 'cpu')\n",
    "\n",
    "input_dim = 5        # [log(pt), eta, phi, pdg_index, charge]\n",
    "hidden_dim = 64\n",
    "num_classes = 2\n",
    "num_pool_nodes = 20  # number of clusters for DiffPool\n",
    "k = 8\n",
    "\n",
    "model = DiffPoolNet(input_dim=input_dim, hidden_dim=hidden_dim, num_classes=num_classes, \n",
    "                    num_pool_nodes=num_pool_nodes, k=k).to(device)\n",
    "criterion = nn.CrossEntropyLoss()\n",
    "optimizer = torch.optim.Adam(model.parameters(), lr=0.001)\n",
    "\n",
    "def train(epoch):\n",
    "    model.train()\n",
    "    total_loss = 0\n",
    "    pbar = tqdm(train_loader, desc=f\"Epoch {epoch} - Training\", leave=False)\n",
    "    for data in pbar:\n",
    "        data = data.to(device)\n",
    "        optimizer.zero_grad()\n",
    "        out = model(data)\n",
    "        loss = criterion(out, data.y.view(-1))\n",
    "        loss.backward()\n",
    "        optimizer.step()\n",
    "        total_loss += loss.item() * data.num_graphs\n",
    "        pbar.set_postfix(loss=loss.item())\n",
    "    return total_loss / len(train_dataset)\n",
    "\n",
    "def test(loader, phase=\"Test\"):\n",
    "    model.eval()\n",
    "    correct = 0\n",
    "    total = 0\n",
    "    pbar = tqdm(loader, desc=f\"{phase} Phase\", leave=False)\n",
    "    with torch.no_grad():\n",
    "        for data in pbar:\n",
    "            data = data.to(device)\n",
    "            out = model(data)\n",
    "            pred = out.argmax(dim=1)\n",
    "            correct += (pred == data.y.view(-1)).sum().item()\n",
    "            total += data.num_graphs\n",
    "            pbar.set_postfix(acc=correct/total if total > 0 else 0)\n",
    "    return correct / total\n",
    "\n",
    "num_epochs = 15\n",
    "train_losses = []\n",
    "train_accs = []\n",
    "test_accs = []\n",
    "\n",
    "for epoch in range(1, num_epochs+1):\n",
    "    loss = train(epoch)\n",
    "    train_acc = test(train_loader, phase=\"Train\")\n",
    "    test_acc = test(test_loader, phase=\"Test\")\n",
    "    \n",
    "    train_losses.append(loss)\n",
    "    train_accs.append(train_acc)\n",
    "    test_accs.append(test_acc)\n",
    "    \n",
    "    print(f\"Epoch: {epoch:02d}, Loss: {loss:.4f}, Train Acc: {train_acc:.4f}, Test Acc: {test_acc:.4f}\")"
   ]
  },
  {
   "cell_type": "code",
   "execution_count": 18,
   "metadata": {},
   "outputs": [
    {
     "data": {
      "image/png": "[encoded data removed]",
      "text/plain": [
       "<Figure size 1400x500 with 2 Axes>"
      ]
     },
     "metadata": {},
     "output_type": "display_data"
    }
   ],
   "source": [
    "epochs = range(1, num_epochs + 1)\n",
    "fig, axs = plt.subplots(1, 2, figsize=(14, 5))\n",
    "axs[0].plot(epochs, train_losses, marker='o', linestyle='-', color='blue', label=\"Training Loss\")\n",
    "axs[0].set_xlabel(\"Epoch\")\n",
    "axs[0].set_ylabel(\"Loss\")\n",
    "axs[0].set_title(\"Training Loss per Epoch\")\n",
    "axs[0].legend()\n",
    "axs[0].grid(True)\n",
    "axs[1].plot(epochs, train_accs, marker='o', linestyle='-', color='green', label=\"Train Accuracy\")\n",
    "axs[1].plot(epochs, test_accs, marker='s', linestyle='-', color='red', label=\"Test Accuracy\")\n",
    "axs[1].set_xlabel(\"Epoch\")\n",
    "axs[1].set_ylabel(\"Accuracy\")\n",
    "axs[1].set_title(\"Accuracy per Epoch\")\n",
    "axs[1].legend()\n",
    "axs[1].grid(True)\n",
    "plt.tight_layout()\n",
    "plt.show()\n"
   ]
  }
 ],
 "metadata": {
  "kernelspec": {
   "display_name": "mldl",
   "language": "python",
   "name": "python3"
  },
  "language_info": {
   "codemirror_mode": {
    "name": "ipython",
    "version": 3
   },
   "file_extension": ".py",
   "mimetype": "text/x-python",
   "name": "python",
   "nbconvert_exporter": "python",
   "pygments_lexer": "ipython3",
   "version": "3.9.21"
  }
 },
 "nbformat": 4,
 "nbformat_minor": 2
}
